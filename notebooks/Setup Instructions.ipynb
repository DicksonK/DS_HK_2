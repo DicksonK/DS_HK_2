{
 "metadata": {
  "name": "",
  "signature": "sha256:be97a2d74566c76fb53a9f49ea042a30216012c9341d7a13a4abb57236fc7126"
 },
 "nbformat": 3,
 "nbformat_minor": 0,
 "worksheets": [
  {
   "cells": [
    {
     "cell_type": "code",
     "collapsed": false,
     "input": [
      "%%javascript\n",
      "function is_local(){\n",
      "    return (document.location.hostname == \"localhost\" || document.location.hostname == '127.0.0.1')\n",
      "}\n",
      "var url = is_local() ? \"http://localhost:8000/theme/custom.js\" : \"http://odhk.github.io/hyrule_theme/custom.js\"\n",
      "$.getScript(url)"
     ],
     "language": "python",
     "metadata": {},
     "outputs": [
      {
       "javascript": [
        "function is_local(){\n",
        "    return (document.location.hostname == \"localhost\" || document.location.hostname == '127.0.0.1')\n",
        "}\n",
        "var url = is_local() ? \"http://localhost:8000/theme/custom.js\" : \"http://odhk.github.io/hyrule_theme/custom.js\"\n",
        "$.getScript(url)"
       ],
       "metadata": {},
       "output_type": "display_data",
       "text": [
        "<IPython.core.display.Javascript at 0x33e6b90>"
       ]
      }
     ],
     "prompt_number": 1
    },
    {
     "cell_type": "markdown",
     "metadata": {},
     "source": [
      "## Mac OSX\n",
      "\n",
      "There are a number of tools that are very useful to have on OSX.\n",
      "\n",
      "In order of importance, get\n",
      "\n",
      "* Update to the [latest version of OSX](http://www.apple.com/hk/en/osx/)\n",
      "* [Install XCode](https://developer.apple.com/xcode/) for its command-line tools, and open it at least once - then never again.\n",
      "* Install a package manager for OSX. [Homebrew](http://brew.sh/) is installed by pasting this into a terminal and following the instructions\n",
      "\n",
      "    ```bash\n",
      "    ruby -e \"$(curl -fsSL https://raw.github.com/Homebrew/homebrew/go/install)\"\n",
      "    ```\n",
      "\n",
      "\n",
      "* Install [iTerm2](http://www.iterm2.com/#/section/home) as a superior Terminal Emulator."
     ]
    },
    {
     "cell_type": "markdown",
     "metadata": {},
     "source": [
      "## Linux"
     ]
    },
    {
     "cell_type": "markdown",
     "metadata": {},
     "source": [
      "Aren't you tricked out already? \n",
      "\n",
      "* If you are looking to replace your default Terminal Emulator, give [Terminator](http://gnometerminator.blogspot.hk/p/introduction.html) a try."
     ]
    }
   ],
   "metadata": {}
  }
 ]
}