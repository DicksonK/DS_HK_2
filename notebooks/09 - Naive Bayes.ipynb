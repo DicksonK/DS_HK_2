{
 "metadata": {
  "name": "",
  "signature": "sha256:39b1eb8c6a1fb7d705fa81d452ff0ccc69e991c42bfee67ea646af27976e8440"
 },
 "nbformat": 3,
 "nbformat_minor": 0,
 "worksheets": [
  {
   "cells": [
    {
     "cell_type": "code",
     "collapsed": false,
     "input": [
      "%%javascript\n",
      "function is_local(){\n",
      "  return (document.location.hostname == \"localhost\" || document.location.hostname == '127.0.0.1')\n",
      "}\n",
      "var url = is_local() ? \"http://localhost:8000/theme/custom.js\" : \"http://odhk.github.io/hyrule_theme/custom.js\"\n",
      "$.getScript(url)"
     ],
     "language": "python",
     "metadata": {},
     "outputs": [
      {
       "javascript": [
        "function is_local(){\n",
        "  return (document.location.hostname == \"localhost\" || document.location.hostname == '127.0.0.1')\n",
        "}\n",
        "var url = is_local() ? \"http://localhost:8000/theme/custom.js\" : \"http://odhk.github.io/hyrule_theme/custom.js\"\n",
        "$.getScript(url)"
       ],
       "metadata": {},
       "output_type": "display_data",
       "text": [
        "<IPython.core.display.Javascript at 0x2400a90>"
       ]
      }
     ],
     "prompt_number": 1
    },
    {
     "cell_type": "markdown",
     "metadata": {},
     "source": [
      "# Probability and Naive Bayes"
     ]
    },
    {
     "cell_type": "markdown",
     "metadata": {},
     "source": [
      "> Do not become an artist; be a Bayesian, much more scope for the imagination!\n",
      "\n",
      "<footer>~ Unknown</footer>"
     ]
    },
    {
     "cell_type": "markdown",
     "metadata": {},
     "source": [
      "![break](assets/agenda.png)"
     ]
    },
    {
     "cell_type": "markdown",
     "metadata": {},
     "source": [
      "1. [Probability](#Intro-to-Probability)\n",
      "1. [Naive Bayesian Classification](#Naive-Bayesian-Classification)\n",
      "\n",
      "** Labs **\n",
      "1. Implementing a Spam Filter"
     ]
    },
    {
     "cell_type": "markdown",
     "metadata": {},
     "source": [
      "![break](assets/theory.png)"
     ]
    },
    {
     "cell_type": "heading",
     "level": 2,
     "metadata": {},
     "source": [
      "Intro to Probability "
     ]
    },
    {
     "cell_type": "markdown",
     "metadata": {},
     "source": [
      "A **probability** is a number between 0 and 1 that characterizes the likelihood that\n",
      "some event will occur."
     ]
    },
    {
     "cell_type": "markdown",
     "metadata": {},
     "source": [
      "The probability of event $A$ is denoted $P(A)$."
     ]
    },
    {
     "cell_type": "markdown",
     "metadata": {},
     "source": [
      "**Examples**\n",
      "* The probability of getting heads on a coin flip is .5\n",
      "* The probability of picking the 1 red ball in a bag of 8 balls is .125"
     ]
    },
    {
     "cell_type": "markdown",
     "metadata": {},
     "source": [
      "The set of all possible events is called the **sample space** $\\Omega$. Event $A$ is a member of the sample space, as is every other event."
     ]
    },
    {
     "cell_type": "markdown",
     "metadata": {},
     "source": [
      "The probability of the sample space $P(\\Omega)$ is $1$."
     ]
    },
    {
     "cell_type": "markdown",
     "metadata": {},
     "source": [
      "Consider two events $A$ & $B$. We can characterize the **intersection** of these events with the joint probability of $A$ and $B$, written $P(AB)$."
     ]
    },
    {
     "cell_type": "markdown",
     "metadata": {},
     "source": [
      "The probability of rolling a die as an **odd($A$) prime ($B$)** number is ..."
     ]
    },
    {
     "cell_type": "markdown",
     "metadata": {},
     "source": [
      "    - 1 2 3 4 5 6\n",
      "    A:O E O E O E\n",
      "    B:N P P N P N"
     ]
    },
    {
     "cell_type": "markdown",
     "metadata": {},
     "source": [
      "The probability of rolling a die as an odd($A$) prime ($B$) number is 2/6, or .333"
     ]
    },
    {
     "cell_type": "markdown",
     "metadata": {},
     "source": [
      "    - 1 2 |3| 4 |5| 6\n",
      "    A:O E |O| E |O| E\n",
      "    B:N P |P| N |P| N"
     ]
    },
    {
     "cell_type": "markdown",
     "metadata": {},
     "source": [
      "What\u2019s the probability of rolling an **even prime** number?"
     ]
    },
    {
     "cell_type": "markdown",
     "metadata": {},
     "source": [
      "    - 1 |2| 3 4 5 6\n",
      "    A:O |E| O E O E\n",
      "    B:N |P| P N P N"
     ]
    },
    {
     "cell_type": "markdown",
     "metadata": {},
     "source": [
      "What\u2019s the probability of rolling an even prime number? 1/6 (.1667)"
     ]
    },
    {
     "cell_type": "heading",
     "level": 3,
     "metadata": {},
     "source": [
      "Conditional probability"
     ]
    },
    {
     "cell_type": "markdown",
     "metadata": {},
     "source": [
      "Suppose event B has occurred. The **intersection of A & B divided by region B** is what quantity represents the probability of A **given** this information about B."
     ]
    },
    {
     "cell_type": "markdown",
     "metadata": {},
     "source": [
      "> This information about B transforms the sample space. Take a moment to convince yourself of this!"
     ]
    },
    {
     "cell_type": "markdown",
     "metadata": {},
     "source": [
      "This is called the conditional probability of $A$ given $B$, written"
     ]
    },
    {
     "cell_type": "markdown",
     "metadata": {},
     "source": [
      "$$P(A|B) = \\frac{P(AB)}{P(B)}$$"
     ]
    },
    {
     "cell_type": "markdown",
     "metadata": {},
     "source": [
      "Notice, with this we can also write"
     ]
    },
    {
     "cell_type": "markdown",
     "metadata": {},
     "source": [
      "$$P(AB) = P(A|B) * P(B)$$"
     ]
    },
    {
     "cell_type": "markdown",
     "metadata": {},
     "source": [
      "Back to the roll problem: If someone rolls a prime number, what is the probability that\n",
      "they rolled an odd?"
     ]
    },
    {
     "cell_type": "markdown",
     "metadata": {},
     "source": [
      "$$P(AB) = P(odd \\space and \\space prime) = .333 (1/3, or \\space 2/6)$$\n"
     ]
    },
    {
     "cell_type": "markdown",
     "metadata": {},
     "source": [
      "$$P(B) = P(prime) = .5 (1/5, or \\space 3/6)$$"
     ]
    },
    {
     "cell_type": "markdown",
     "metadata": {},
     "source": [
      "If someone announces they rolled an even number, what is the probability that\n",
      "it was prime?"
     ]
    },
    {
     "cell_type": "markdown",
     "metadata": {},
     "source": [
      "$$P(AB) = P(even \\space and \\space prime) = .166 (1/6)$$"
     ]
    },
    {
     "cell_type": "markdown",
     "metadata": {},
     "source": [
      "$$P(B) = P(even) = .5 (1/2)$$"
     ]
    },
    {
     "cell_type": "markdown",
     "metadata": {},
     "source": [
      "$$P(A|B) = P(prime \\space given \\space even) = .166 / .5 = .333 (1/3)$$"
     ]
    },
    {
     "cell_type": "heading",
     "level": 3,
     "metadata": {},
     "source": [
      "Probability Review"
     ]
    },
    {
     "cell_type": "markdown",
     "metadata": {},
     "source": [
      "We have\n",
      "\n",
      "* 10 brown balls,\n",
      "* 15 brown cubes, \n",
      "* 18 green balls,\n",
      "* 25 green cubes \n",
      "\n",
      "in a bag. Michael takes an item out of the bag and announces..."
     ]
    },
    {
     "cell_type": "markdown",
     "metadata": {},
     "source": [
      "1. It\u2019s green. What\u2019s the probability it\u2019s a cube?\n",
      "1. It\u2019s brown. What\u2019s the probability it\u2019s a cube?\n",
      "1. It\u2019s a ball. What\u2019s the probability it\u2019s green?\n",
      "1. It\u2019s a cube. What\u2019s the probability it\u2019s a ball?"
     ]
    },
    {
     "cell_type": "heading",
     "level": 3,
     "metadata": {},
     "source": [
      "Bayesian Theorem"
     ]
    },
    {
     "cell_type": "markdown",
     "metadata": {},
     "source": [
      "When two events are **independent**, information about one does not affect the probability of the other."
     ]
    },
    {
     "cell_type": "markdown",
     "metadata": {},
     "source": [
      "This can be written as "
     ]
    },
    {
     "cell_type": "markdown",
     "metadata": {},
     "source": [
      "$$P(A|B) = P(A)$$"
     ]
    },
    {
     "cell_type": "markdown",
     "metadata": {},
     "source": [
      "Using the definition of the conditional probability, we can also write:"
     ]
    },
    {
     "cell_type": "markdown",
     "metadata": {},
     "source": [
      "$$P(A|B) = P(AB) / P(B) = P(A) \\rightarrow \\quad\\quad P(AB) = P(A) * P(B)$$"
     ]
    },
    {
     "cell_type": "heading",
     "level": 4,
     "metadata": {},
     "source": [
      "... in five steps"
     ]
    },
    {
     "cell_type": "markdown",
     "metadata": {},
     "source": [
      "$$\\text{start with}$$"
     ]
    },
    {
     "cell_type": "markdown",
     "metadata": {},
     "source": [
      "$$P(AB) = P(A|B) * P(B)$$"
     ]
    },
    {
     "cell_type": "markdown",
     "metadata": {},
     "source": [
      "$$\\text{by substitution}$$"
     ]
    },
    {
     "cell_type": "markdown",
     "metadata": {},
     "source": [
      "$$P(BA) = P(B|A) * P(A)$$"
     ]
    },
    {
     "cell_type": "markdown",
     "metadata": {},
     "source": [
      "$$\\text{since event AB = event BA}$$"
     ]
    },
    {
     "cell_type": "markdown",
     "metadata": {},
     "source": [
      "$$ \\quad P(AB) = P(BA) $$"
     ]
    },
    {
     "cell_type": "markdown",
     "metadata": {},
     "source": [
      "$$\\text{by combining the above}$$"
     ]
    },
    {
     "cell_type": "markdown",
     "metadata": {},
     "source": [
      "$$\\rightarrow P(A|B) * P(B) = P(B|A) * P(A)$$"
     ]
    },
    {
     "cell_type": "markdown",
     "metadata": {},
     "source": [
      "$$\\text{by rearranging last step}$$"
     ]
    },
    {
     "cell_type": "markdown",
     "metadata": {},
     "source": [
      "$$\\rightarrow P(A|B) = P(B|A) * P(A) / P(B)$$\n"
     ]
    },
    {
     "cell_type": "markdown",
     "metadata": {},
     "source": [
      "This result is called Bayes\u2019 theorem. Here it is again:"
     ]
    },
    {
     "cell_type": "markdown",
     "metadata": {},
     "source": [
      "$$P(A|B) =  \\frac{P(B|A) * P(A)}{P(B)}$$"
     ]
    },
    {
     "cell_type": "markdown",
     "metadata": {},
     "source": [
      "**Some facts**\n",
      "* This is a simple algebraic relationship using elementary definitions.\n",
      "* It\u2019s interesting because it\u2019s kind of a \u201cwormhole\u201d between two different\n",
      "\u201cinterpretations\u201d of probability.\n",
      "* It\u2019s a very powerful computational tool."
     ]
    },
    {
     "cell_type": "code",
     "collapsed": false,
     "input": [
      "from IPython.display import YouTubeVideo\n",
      "YouTubeVideo('Zxm4Xxvzohk',width=840, height=520)"
     ],
     "language": "python",
     "metadata": {},
     "outputs": [
      {
       "html": [
        "\n",
        "        <iframe\n",
        "            width=\"840\"\n",
        "            height=520\"\n",
        "            src=\"https://www.youtube.com/embed/Zxm4Xxvzohk\"\n",
        "            frameborder=\"0\"\n",
        "            allowfullscreen\n",
        "        ></iframe>\n",
        "        "
       ],
       "metadata": {},
       "output_type": "pyout",
       "prompt_number": 25,
       "text": [
        "<IPython.lib.display.YouTubeVideo at 0x24033d0>"
       ]
      }
     ],
     "prompt_number": 25
    },
    {
     "cell_type": "markdown",
     "metadata": {},
     "source": [
      "**Things to consider**\n",
      "* Flipping a coin to see if it\u2019s heads or tails is our **test** to see which coin was chosen.\n",
      "* Our probability can change **dependent** on previous results. Two heads in a row did not\n",
      "confirm anything, but only changed our perception of probability for each coin.\n",
      "* In more common Bayes Probability, tests will more commonly produce **false positives** and **false negatives**, where error comes into play."
     ]
    },
    {
     "cell_type": "heading",
     "level": 4,
     "metadata": {},
     "source": [
      "Interpretations of Probability"
     ]
    },
    {
     "cell_type": "markdown",
     "metadata": {},
     "source": [
      "Briefly, the two interpretations can be described as follows:\n",
      "    \n",
      "* The **frequentist interpretation** regards an event\u2019s probability as its limiting frequency\n",
      "across a very large number of trials.\n",
      "* The **Bayesian interpretation** regards an event\u2019s probability as a \u201cdegree of belief,\u201d which\n",
      "can apply even to events that have not yet occurred.\n",
      "\n",
      "If this sounds crazy to you, don\u2019t worry...we won\u2019t dwell on the theoretical details.\n",
      "\n",
      "If this sounds interesting, there are plenty of resources available to learn more about Bayesian inference."
     ]
    },
    {
     "cell_type": "markdown",
     "metadata": {},
     "source": [
      "![resource](assets/bayesian_reasoning.png)[Bayesian Reasoning and Machine Learning](http://type.hk:2551/calibre/browse/book/428)"
     ]
    },
    {
     "cell_type": "markdown",
     "metadata": {},
     "source": [
      "This a good direction to head if you like math and/or if you\u2019re interested in learning about\n",
      "cutting-edge data science techniques."
     ]
    },
    {
     "cell_type": "markdown",
     "metadata": {},
     "source": [
      "![resource](assets/think_bayes.png)[Think Bayes](http://type.hk:2551/calibre/browse/book/360)"
     ]
    },
    {
     "cell_type": "markdown",
     "metadata": {},
     "source": [
      "![break](assets/theory.png)"
     ]
    },
    {
     "cell_type": "heading",
     "level": 2,
     "metadata": {},
     "source": [
      "Naive Bayesian Classification"
     ]
    },
    {
     "cell_type": "markdown",
     "metadata": {},
     "source": [
      "Suppose we have a dataset with features $x_{1}, \\ldots, x_{n}$ and a class label $C$. What can we\n",
      "say about classification using Bayes\u2019 theorem?"
     ]
    },
    {
     "cell_type": "markdown",
     "metadata": {},
     "source": [
      "$$P(class \\space C|\\{x_{i}\\}) = \\frac{P(\\{x_{i}\\}| class \\space C) * P(class \\space C)}{P(\\{x_{i}\\})}$$"
     ]
    },
    {
     "cell_type": "markdown",
     "metadata": {},
     "source": [
      "Bayes\u2019 theorem can help us to determine the probability of a record belonging to a class, given the data we observe."
     ]
    },
    {
     "cell_type": "markdown",
     "metadata": {},
     "source": [
      "Each term in this relationship has a name, and each plays a distinct role in any Bayesian\n",
      "calculation (including ours)."
     ]
    },
    {
     "cell_type": "heading",
     "level": 4,
     "metadata": {},
     "source": [
      "The Likelihood Function"
     ]
    },
    {
     "cell_type": "markdown",
     "metadata": {},
     "source": [
      "This term is the likelihood function. It represents the joint probability of observing features $\\{x_{i}\\}$ given that that record belongs to class $C$."
     ]
    },
    {
     "cell_type": "markdown",
     "metadata": {},
     "source": [
      "\u00a0$$P(class \\space C|\\{x_{i}\\}) = \\frac{\\rightarrow P(\\{x_{i}\\}| class \\space C) \\leftarrow * P(class \\space C)}{P(\\{x_{i}\\})}$$"
     ]
    },
    {
     "cell_type": "markdown",
     "metadata": {},
     "source": [
      "We can observe the value of the likelihood function from the training data."
     ]
    },
    {
     "cell_type": "heading",
     "level": 4,
     "metadata": {},
     "source": [
      "The Prior"
     ]
    },
    {
     "cell_type": "markdown",
     "metadata": {},
     "source": [
      "This term is the prior probability of $C$. It represents the probability of a record belonging to class $C$ before the data is taken into account."
     ]
    },
    {
     "cell_type": "markdown",
     "metadata": {},
     "source": [
      "\u00a0$$P(class \\space C|\\{x_{i}\\}) = \\frac{ P(\\{x_{i}\\}| class \\space C) * \\rightarrow P(class \\space C) \\leftarrow}{P(\\{x_{i}\\})}$$"
     ]
    },
    {
     "cell_type": "markdown",
     "metadata": {},
     "source": [
      "The value of the prior is also observed from the data."
     ]
    },
    {
     "cell_type": "heading",
     "level": 4,
     "metadata": {},
     "source": [
      "The normalization constant"
     ]
    },
    {
     "cell_type": "markdown",
     "metadata": {},
     "source": [
      "This term is the normalization constant. It doesn\u2019t depend on $C$, and is generally ignored until the end of the computation."
     ]
    },
    {
     "cell_type": "markdown",
     "metadata": {},
     "source": [
      "\u00a0$$P(class \\space C|\\{x_{i}\\}) = \\frac{ P(\\{x_{i}\\}| class \\space C) *  P(class \\space C)}{\\rightarrow P(\\{x_{i}\\}) \\leftarrow}$$"
     ]
    },
    {
     "cell_type": "markdown",
     "metadata": {},
     "source": [
      "The normalization constant doesn\u2019t tell us much."
     ]
    },
    {
     "cell_type": "heading",
     "level": 4,
     "metadata": {},
     "source": [
      "The Posterior"
     ]
    },
    {
     "cell_type": "markdown",
     "metadata": {},
     "source": [
      "This term is the posterior probability of $C$. It represents the probability of a record belonging to class $C$ aster the data is taken into account."
     ]
    },
    {
     "cell_type": "markdown",
     "metadata": {},
     "source": [
      "\u00a0$$\\rightarrow P(class \\space C|\\{x_{i}\\}) \\leftarrow = \\frac{ P(\\{x_{i}\\}| class \\space C) *  P(class \\space C)}{P(\\{x_{i}\\})}$$"
     ]
    },
    {
     "cell_type": "markdown",
     "metadata": {},
     "source": [
      "The goal of any Bayesian computation is to find (\u201clearn\u201d) the posterior distribution of a\n",
      "particular variable."
     ]
    },
    {
     "cell_type": "markdown",
     "metadata": {},
     "source": [
      "The idea of Bayesian inference, then, is to **update** our beliefs about the distribution of C using the data (\u201cevidence\u201d) at our disposal."
     ]
    },
    {
     "cell_type": "markdown",
     "metadata": {},
     "source": [
      "Then we can use the posterior for prediction."
     ]
    },
    {
     "cell_type": "heading",
     "level": 3,
     "metadata": {},
     "source": [
      "A Quick Comparison"
     ]
    },
    {
     "cell_type": "markdown",
     "metadata": {},
     "source": [
      "| Methods               | Predictions     |\n",
      "|-----------------------|-----------------|\n",
      "| classical/frequentist | point estimates |\n",
      "| Bayesian              | distribution    |"
     ]
    },
    {
     "cell_type": "markdown",
     "metadata": {},
     "source": [
      "**Q: What piece of the puzzle we\u2019ve seen so far looks like it could intractably difficult in practice?**\n",
      "\n",
      "Remember the likelihood function?"
     ]
    },
    {
     "cell_type": "markdown",
     "metadata": {},
     "source": [
      "$$P(\\{x_{i}\\}|C) = P(\\{x_{1},x_{2}, \\dots , x_{n}\\})|C)$$"
     ]
    },
    {
     "cell_type": "markdown",
     "metadata": {},
     "source": [
      "Observing this exactly would require us to have enough data for every possible combination of features to make a reasonable estimate."
     ]
    },
    {
     "cell_type": "markdown",
     "metadata": {},
     "source": [
      "A: Estimating the full likelihood function."
     ]
    },
    {
     "cell_type": "markdown",
     "metadata": {},
     "source": [
      "In practice we can make a simplifying assumption. In particular, we assume that the features $x_{i}$ are conditionally independent from each other:"
     ]
    },
    {
     "cell_type": "markdown",
     "metadata": {},
     "source": [
      "$$P(\\{x_{i}\\}|C) = P(\\{x_{1},x_{2}, \\dots , x_{n}\\})|C) \\approx P(\\{x_{1} | C) * P(\\{x_{2} | C) * \\dots * P(\\{x_{n} | C))$$"
     ]
    },
    {
     "cell_type": "markdown",
     "metadata": {},
     "source": [
      "![break](assets/code.png)"
     ]
    },
    {
     "cell_type": "heading",
     "level": 2,
     "metadata": {},
     "source": [
      "Implementing a Naive Bayesian Classification"
     ]
    },
    {
     "cell_type": "code",
     "collapsed": false,
     "input": [],
     "language": "python",
     "metadata": {},
     "outputs": []
    },
    {
     "cell_type": "code",
     "collapsed": false,
     "input": [],
     "language": "python",
     "metadata": {},
     "outputs": []
    },
    {
     "cell_type": "code",
     "collapsed": false,
     "input": [],
     "language": "python",
     "metadata": {},
     "outputs": []
    },
    {
     "cell_type": "code",
     "collapsed": false,
     "input": [],
     "language": "python",
     "metadata": {},
     "outputs": []
    },
    {
     "cell_type": "code",
     "collapsed": false,
     "input": [],
     "language": "python",
     "metadata": {},
     "outputs": []
    },
    {
     "cell_type": "code",
     "collapsed": false,
     "input": [],
     "language": "python",
     "metadata": {},
     "outputs": []
    },
    {
     "cell_type": "code",
     "collapsed": false,
     "input": [],
     "language": "python",
     "metadata": {},
     "outputs": []
    },
    {
     "cell_type": "heading",
     "level": 2,
     "metadata": {},
     "source": [
      "Resources"
     ]
    },
    {
     "cell_type": "heading",
     "level": 3,
     "metadata": {},
     "source": [
      "Handbooks"
     ]
    },
    {
     "cell_type": "markdown",
     "metadata": {},
     "source": [
      "![resource](assets/think_bayes.png)[Think Bayes](http://type.hk:2551/calibre/browse/book/360)"
     ]
    },
    {
     "cell_type": "markdown",
     "metadata": {},
     "source": [
      "![resource](assets/bayesian_reasoning.png)[Bayesian Reasoning and Machine Learning](http://type.hk:2551/calibre/browse/book/428)"
     ]
    }
   ],
   "metadata": {}
  }
 ]
}