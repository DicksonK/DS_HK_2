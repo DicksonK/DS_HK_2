{
 "metadata": {
  "name": "",
  "signature": "sha256:8a02e3da3e9dc08c3ed1c6ad8b0fb55f23b2bfd27bfb0e81b37ae6795e007aa2"
 },
 "nbformat": 3,
 "nbformat_minor": 0,
 "worksheets": [
  {
   "cells": [
    {
     "cell_type": "code",
     "collapsed": false,
     "input": [
      " %%javascript\n",
      "    $.getScript(\"http://localhost:8000/theme/custom.js\")"
     ],
     "language": "python",
     "metadata": {},
     "outputs": [
      {
       "javascript": [
        "   $.getScript(\"http://localhost:8000/theme/custom.js\")"
       ],
       "metadata": {},
       "output_type": "display_data",
       "text": [
        "<IPython.core.display.Javascript at 0x2803bd0>"
       ]
      }
     ],
     "prompt_number": 1
    },
    {
     "cell_type": "markdown",
     "metadata": {},
     "source": [
      "There are plenty of guides to using Git our there, but perhaps none are simpler than the [Simple Git Guide](http://rogerdudler.github.io/git-guide/) which promises to get you started with git - no deep shit ;)"
     ]
    }
   ],
   "metadata": {}
  }
 ]
}