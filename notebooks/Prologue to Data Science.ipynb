{
 "metadata": {
  "name": "",
  "signature": "sha256:039e9c5477e2b472ce2e76693e95484f1b7e9173bec635a0b542a8e9814508ff"
 },
 "nbformat": 3,
 "nbformat_minor": 0,
 "worksheets": [
  {
   "cells": [
    {
     "cell_type": "code",
     "collapsed": false,
     "input": [
      "%%javascript\n",
      "\n",
      "function is_local(){\n",
      "    return (document.location.hostname == \"localhost\" || document.location.hostname == '127.0.0.1')\n",
      "}\n",
      "\n",
      "var url = is_local() ? \"http://localhost:8000/theme/custom.js\" : \"http://odhk.github.io/hyrule_theme/custom.js\"\n",
      "\n",
      "$.getScript(url)"
     ],
     "language": "python",
     "metadata": {},
     "outputs": [
      {
       "javascript": [
        "\n",
        "function is_local(){\n",
        "    return (document.location.hostname == \"localhost\" || document.location.hostname == '127.0.0.1')\n",
        "}\n",
        "\n",
        "var url = is_local() ? \"http://localhost:8000/theme/custom.js\" : \"http://odhk.github.io/hyrule_theme/custom.js\"\n",
        "\n",
        "$.getScript(url)"
       ],
       "metadata": {},
       "output_type": "display_data",
       "text": [
        "<IPython.core.display.Javascript at 0x275ce50>"
       ]
      }
     ],
     "prompt_number": 1
    },
    {
     "cell_type": "heading",
     "level": 1,
     "metadata": {},
     "source": [
      "Prologue to Data Science"
     ]
    },
    {
     "cell_type": "markdown",
     "metadata": {},
     "source": [
      "> It is a capital mistake to theorize before one has data. Insensibly one begins to twist facts to suit theories, instead of theories to suit facts.\n",
      "\n",
      "<footer>~ Arthur Conan Doyle, Sherlock Holmes</footer>"
     ]
    },
    {
     "cell_type": "markdown",
     "metadata": {},
     "source": [
      "This guide acts as a prologue to Data Science and is a prerequisite for General Assembly's [Data Science](https://generalassemb.ly/education/data-science) course. It will guide you through the basics of the Python programming language, teach you how to operate your computer through the command line, and refresh your stats knowledge.\n",
      "\n",
      "The modern Data Scientist doesn't always need to know the mathematics that go on behind the scenes, but they _do_ need to be intimately familiar with the characteristics of the various machine learning algorithms - e.g. which types of data they are suitable for, how to measure their accuracy, and how to interpret their output. \n",
      "\n",
      "To _design_ and _assess_ the validity of your data models, you'll at least need a **statistics** vocabulary equivalent to one offered by college-level  course. The materials referenced in this guide provide a succinct refresher. But as you'll also want to _implement_ and _iterate_ over your data models once you've designed them, you also need some **programming** skills. Data Scientists often work with a scripting language with strong machine learning libraries. _R_ is a common contender, but for the purposes of this introduction _Python_ is used to teach you the basics of computational thinking.\n",
      "\n",
      "Each of the following banners will lead you to an online resource which will  set you on your journey as fledgling Data Science. The topics presented here are both wide and deep, so where appropriate, the _minimum_ requirements are  listed. Data Science is an intellectually challenging pursuit, but let that not deter you. Data Scientists are often just better statisticians than most programmers, and better programmers than most statisticians. It's through a hybrid of the two domains that they develop their invaluable skill-set."
     ]
    },
    {
     "cell_type": "heading",
     "level": 2,
     "metadata": {},
     "source": [
      "Setup Instructions"
     ]
    },
    {
     "cell_type": "markdown",
     "metadata": {},
     "source": [
      "Python Anaconda this will install python and the libraries you will need for class, follow the online install documentation for instructions.\n",
      "\n",
      "OSX users, please follow the OSX Install Guide to make setting up as smooth as possible on the first day of the course."
     ]
    },
    {
     "cell_type": "markdown",
     "metadata": {},
     "source": [
      "![resource](assets/anaconda.jpg) [Anaconda](http://docs.continuum.io/anaconda/install.html)"
     ]
    },
    {
     "cell_type": "markdown",
     "metadata": {},
     "source": [
      "![break](assets/code.png)"
     ]
    },
    {
     "cell_type": "heading",
     "level": 2,
     "metadata": {},
     "source": [
      " Introducing Python & Unix"
     ]
    },
    {
     "cell_type": "markdown",
     "metadata": {},
     "source": [
      "![resource](assets/codecademy.png) [Python 101](http://codecademy.com)"
     ]
    },
    {
     "cell_type": "markdown",
     "metadata": {},
     "source": [
      "LearnPython (~2 hours) Complete up through \u201cLearn the Basics\u201d and try your hand at some \u201cAdvanced Tutorials.\u201d Codecademy If you are completely new to programming, you might want to spend a little more time on the fundamentals. Codecademy holds your hand, but takes its time while doing it. (several sittings)"
     ]
    },
    {
     "cell_type": "markdown",
     "metadata": {},
     "source": [
      "![resource](assets/terminal.jpg) [Command Line 101](http://learnpythonthehardway.org/book/appendix-a-cli/introduction.html)"
     ]
    },
    {
     "cell_type": "markdown",
     "metadata": {},
     "source": [
      "Learn Pandas a short guide on using pandas for data manipulation and analysis (~ 2 hours) This Python Style Guide will help you write better and cleaner code and is a good place to start. Keep this Code Style advice for later in the course as a reference as it deals with more complicated constructs. (~1 hour)\n",
      "\n",
      "Unix/Command line Learn Command Line the Hard Way (~2 hours)"
     ]
    },
    {
     "cell_type": "markdown",
     "metadata": {},
     "source": [
      "![resource](assets/checkio.png) [Practice Python](http://check.io)"
     ]
    },
    {
     "cell_type": "markdown",
     "metadata": {},
     "source": [
      "![break](assets/theory.png)"
     ]
    },
    {
     "cell_type": "heading",
     "level": 2,
     "metadata": {},
     "source": [
      "Statistics Refresher"
     ]
    },
    {
     "cell_type": "markdown",
     "metadata": {},
     "source": [
      "Congratulations on joining us at General Assembly for the Data Science course! We are so excited to have you and looking forward to working with you all soon!\n",
      "\n",
      "In order to best prepare you for this course, we\u2019ve gathered a list of resources that we\u2019d like for your to complete prior to beginning the first. So when you arrive on your first day, we will all be up to speed and be familiar with the vocabulary and programming languages necessary to succeed in this course.\n",
      "\n",
      "Throughout this course, you will be exposed to the Python programming language and various libraries so in order to be most prepared we recommend going through the following downloads and tutorials."
     ]
    },
    {
     "cell_type": "markdown",
     "metadata": {},
     "source": [
      "![break](assets/resources.png)"
     ]
    },
    {
     "cell_type": "heading",
     "level": 2,
     "metadata": {},
     "source": [
      "Additional Useful Resources"
     ]
    },
    {
     "cell_type": "markdown",
     "metadata": {},
     "source": [
      "You won\u2019t need these right away but they will become very useful resources later in the course: SciPy and scikit-learn\n",
      "\n",
      "Please reach out if you have any questions about anything or need help!"
     ]
    },
    {
     "cell_type": "markdown",
     "metadata": {},
     "source": [
      "![resource](assets/nounproject.png) [Credits](http://nbviewer.ipython.org/gist/anonymous/b2896a7012f262f674f0)"
     ]
    }
   ],
   "metadata": {}
  }
 ]
}