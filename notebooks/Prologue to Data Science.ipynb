{
 "metadata": {
  "name": "",
  "signature": "sha256:a4377504fe6dedc073d34476baa52558702f1353b629e43654808cd13986e580"
 },
 "nbformat": 3,
 "nbformat_minor": 0,
 "worksheets": [
  {
   "cells": [
    {
     "cell_type": "code",
     "collapsed": false,
     "input": [
      "%%javascript\n",
      "\n",
      "function is_local(){\n",
      "    return (document.location.hostname == \"localhost\" || document.location.hostname == '127.0.0.1')\n",
      "}\n",
      "\n",
      "var url = is_local() ? \"http://localhost:8000/theme/custom.js\" : \"http://odhk.github.io/hyrule_theme/custom.js\"\n",
      "\n",
      "$.getScript(url)"
     ],
     "language": "python",
     "metadata": {},
     "outputs": [
      {
       "javascript": [
        "\n",
        "function is_local(){\n",
        "    return (document.location.hostname == \"localhost\" || document.location.hostname == '127.0.0.1')\n",
        "}\n",
        "\n",
        "var url = is_local() ? \"http://localhost:8000/theme/custom.js\" : \"http://odhk.github.io/hyrule_theme/custom.js\"\n",
        "\n",
        "$.getScript(url)"
       ],
       "metadata": {},
       "output_type": "display_data",
       "text": [
        "<IPython.core.display.Javascript at 0x275ce50>"
       ]
      }
     ],
     "prompt_number": 1
    },
    {
     "cell_type": "heading",
     "level": 1,
     "metadata": {},
     "source": [
      "Prologue to Data Science"
     ]
    },
    {
     "cell_type": "markdown",
     "metadata": {},
     "source": [
      "> It is a capital mistake to theorize before one has data. Insensibly one begins to twist facts to suit theories, instead of theories to suit facts.\n",
      "\n",
      "<footer>~ Arthur Conan Doyle, Sherlock Holmes</footer>"
     ]
    },
    {
     "cell_type": "markdown",
     "metadata": {},
     "source": [
      "This guide acts as a prologue to Data Science and is a prerequisite for [General Assembly's Data Science](https://generalassemb.ly/education/data-science) course. It will guide you through the basics of the Python programming language, teach you how to operate your computer through the command line, and refresh your stats knowledge.\n",
      "\n",
      "The modern Data Scientist doesn't always need to know the mathematics that go on behind the scenes, but they _do_ need to be intimately familiar with the characteristics of the various machine learning algorithms - e.g. which types of data they are suitable for, how to measure their accuracy, and how to interpret their output. \n",
      "\n",
      "To _design_ and _assess_ the validity of your data models, you'll at least need a **statistics** vocabulary equivalent to one offered by college-level  course. The materials referenced in this guide provide a succinct refresher. But as you'll also want to _implement_ and _iterate_ over your data models once you've designed them, you also need some **programming** skills. Data Scientists often work with a scripting language with strong machine learning libraries. _R_ is a common contender, but for the purposes of this introduction _Python_ is used to teach you the basics of computational thinking.\n",
      "\n",
      "Each of the following banners will lead you to an online resource which will  set you on your journey as fledgling Data Science. The topics presented here are both wide and deep, so where appropriate, the _minimum_ requirements are  listed. Data Science is an intellectually challenging pursuit, but let that not deter you. Data Scientists are often just better statisticians than most programmers, and better programmers than most statisticians. It's through a hybrid of the two domains that they develop their invaluable skill-set."
     ]
    },
    {
     "cell_type": "heading",
     "level": 2,
     "metadata": {},
     "source": [
      "Setup Instructions"
     ]
    },
    {
     "cell_type": "markdown",
     "metadata": {},
     "source": [
      "Python comes with a rich ecosystem of 'modules' that extend the core functionality provided by the language itself. **Python Anaconda** is a collection of the most popular modules used for scientific computing. By installing Anaconda, you will install python and setup all the libraries used in GA's Data Science class. \n",
      "\n",
      "Please follow the online install documentation for instructions."
     ]
    },
    {
     "cell_type": "markdown",
     "metadata": {},
     "source": [
      "![resource](assets/anaconda.jpg) [Anaconda](http://docs.continuum.io/anaconda/install.html)"
     ]
    },
    {
     "cell_type": "markdown",
     "metadata": {},
     "source": [
      "OSX users can follow the [OSX Install Guide](http://nbviewer.ipython.org/gist/anonymous/6cc774e461d062b78c1a) to further smoothen the developer experience."
     ]
    },
    {
     "cell_type": "markdown",
     "metadata": {},
     "source": [
      "![break](assets/code.png)"
     ]
    },
    {
     "cell_type": "heading",
     "level": 2,
     "metadata": {},
     "source": [
      "Programming Fundamentals"
     ]
    },
    {
     "cell_type": "markdown",
     "metadata": {},
     "source": [
      "### Python"
     ]
    },
    {
     "cell_type": "markdown",
     "metadata": {},
     "source": [
      "CodeAcademy is a free website with tutorials to teach users rudimentary programming. Its Python course is aimed at non-programmers and will slowly take you through various programming concepts. The course is split up in teaching and practice units so you'll also learn why certain techniques are useful.\n",
      "\n",
      "There are _a lot_ of resources our there which teach Python, so if Codecademy doesn't suit your pace/way of learning, please consult Google on alternatives.\n",
      "\n",
      "**Minimum Requirement** : up until the _exam statistics_ unit\n",
      "\n",
      "**Advanced** : If you are already familiar with another programming language, and would just like to get acquainted with the Python syntax, follow the [Learn Python](http://www.learnpython.org/) path instead as it does less hand-holding.\n",
      "\n",
      "**Estimated Time** : 8 Hours"
     ]
    },
    {
     "cell_type": "markdown",
     "metadata": {},
     "source": [
      "![resource](assets/codecademy.png) [Codecademy](http://codecademy.com)"
     ]
    },
    {
     "cell_type": "markdown",
     "metadata": {},
     "source": [
      "### Command Line"
     ]
    },
    {
     "cell_type": "markdown",
     "metadata": {},
     "source": [
      "The popular introductory manual 'Learn Python the Hard Way' comes with an appendix about the command line. It's a crash course in using the command line to make your computer perform tasks. As a crash course, it's not as detailed or extensive as dedicated guides. It is simply designed to get you barely capable enough to start using your computer like a real programmer does. When you're done with the appendix, you will be able to give most of the basic commands that every shell user touches every day. You'll understand the basics of directories and a few other concepts.\n",
      "\n",
      "Learing how to use the command line is important because if you want to learn to code, then you _must_ learn this. Programming languages are advanced ways to control your computer with language. The command line is the baby little brother of programming languages. Learning the command line teaches you to control the computer using language. Once you get past that, you can then move on to writing code and feeling like you actually own the hunk of metal in front of you.\n",
      "\n",
      "**Minimum Requirement** : Excercises 1-15\n",
      "\n",
      "**Advanced** : Consult the [Bash Cheat Sheet](http://cli.learncodethehardway.org/bash_cheat_sheet.pdf) and see if there's a trick or two you could add to your toolbelt\n",
      "\n",
      "**Estimated Time** : 2 Hours"
     ]
    },
    {
     "cell_type": "markdown",
     "metadata": {},
     "source": [
      "![resource](assets/terminal.jpg) [Command Line Crash Course](http://learnpythonthehardway.org/book/appendix-a-cli/introduction.html)"
     ]
    },
    {
     "cell_type": "markdown",
     "metadata": {},
     "source": [
      "### Python Pandas"
     ]
    },
    {
     "cell_type": "markdown",
     "metadata": {},
     "source": [
      "Pandas is a Python library for doing data analysis. It's really fast and lets you do exploratory work incredibly quickly. You can imagine pandas being the tool which holds your data. The better you know how to merge in new data and ask for a particualr subset of data, the simpler it will be for you to bring in more evidence to your dataset and answer more specific question about your data.\n",
      "\n",
      "Depending on your available time, you might want to check out the [10 minute intro to Pandas](http://pandas.pydata.org/pandas-docs/stable/10min.html#min), but if you do  want a more thorough introduction, I suggest you follow some of the lessons provided by with Learn Pandas. Learn Pandas is a short guide spanning 11 lessons and 4 excercises on using pandas for data manipulation and analysis.\n",
      "\n",
      "**Minimum Requirement** : Lessons 1 - 2, 4 & 6, Excercises 1 - 3\n",
      "\n",
      "**Advanced** : Explore the [Pandas Cookbook](https://github.com/jvns/pandas-cookbook) and see what neat features you can use in your own data analysis.\n",
      "\n",
      "**Estimated Time** : 2-4 Hours"
     ]
    },
    {
     "cell_type": "markdown",
     "metadata": {},
     "source": [
      "![resource](assets/pandas.png) [Learn Pandas](https://bitbucket.org/hrojas/learn-pandas)"
     ]
    },
    {
     "cell_type": "markdown",
     "metadata": {},
     "source": [
      "### Practice Python"
     ]
    },
    {
     "cell_type": "markdown",
     "metadata": {},
     "source": [
      "If programming isn't your strong suit and time allows you to develop your programming skills further, consider joining CheckIO. CheckiO is an online game where coders compete and collaborate. For novice coders, the service is a self tutoring community where code review and feedback are game elements.\n",
      "\n",
      "\n",
      "Remember that Codecademy also provides an excellent [glossary](http://www.codecademy.com/glossary/python) of concepts and techniques you'll likely employ in your adventures."
     ]
    },
    {
     "cell_type": "markdown",
     "metadata": {},
     "source": [
      "![resource](assets/checkio.png) [CheckIO](http://check.io)"
     ]
    },
    {
     "cell_type": "markdown",
     "metadata": {},
     "source": [
      "![break](assets/theory.png)"
     ]
    },
    {
     "cell_type": "heading",
     "level": 2,
     "metadata": {},
     "source": [
      "Statistics Refresher"
     ]
    },
    {
     "cell_type": "markdown",
     "metadata": {},
     "source": [
      "Congratulations on joining us at General Assembly for the Data Science course! We are so excited to have you and looking forward to working with you all soon!\n",
      "\n",
      "In order to best prepare you for this course, we\u2019ve gathered a list of resources that we\u2019d like for your to complete prior to beginning the first. So when you arrive on your first day, we will all be up to speed and be familiar with the vocabulary and programming languages necessary to succeed in this course.\n",
      "\n",
      "Throughout this course, you will be exposed to the Python programming language and various libraries so in order to be most prepared we recommend going through the following downloads and tutorials."
     ]
    },
    {
     "cell_type": "markdown",
     "metadata": {},
     "source": [
      "![break](assets/resources.png)"
     ]
    },
    {
     "cell_type": "heading",
     "level": 2,
     "metadata": {},
     "source": [
      "Additional Useful Resources"
     ]
    },
    {
     "cell_type": "markdown",
     "metadata": {},
     "source": [
      "You won\u2019t need these right away but they will become very useful resources later in the course: SciPy and scikit-learn\n",
      "\n",
      "* This Python Style Guide will help you write better and cleaner code and is a good place to start. Keep this Code Style advice for later in the course as a reference as it deals with more complicated constructs. (~1 hour)\n",
      " [Python Code Style Guide](http://docs.python-guide.org/en/latest/writing/style/)\n",
      "\n",
      "\n",
      "Please reach out if you have any questions about anything or need help!"
     ]
    },
    {
     "cell_type": "markdown",
     "metadata": {},
     "source": [
      "![resource](assets/nounproject.png) [Credits](http://nbviewer.ipython.org/gist/anonymous/b2896a7012f262f674f0)"
     ]
    }
   ],
   "metadata": {}
  }
 ]
}