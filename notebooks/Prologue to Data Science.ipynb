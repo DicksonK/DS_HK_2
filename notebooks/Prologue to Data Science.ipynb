{
 "metadata": {
  "name": "",
  "signature": "sha256:93a5832bd68cf483a5f2fb49e034edb2c0b2cc206ab3400004cb9e9a2a52dd3a"
 },
 "nbformat": 3,
 "nbformat_minor": 0,
 "worksheets": [
  {
   "cells": [
    {
     "cell_type": "code",
     "collapsed": false,
     "input": [
      "%%javascript\n",
      "$.getScript(\"https://gist.githubusercontent.com/tijptjik/c865543fa3bc51110a5a/raw/5ceac80de35b31510aaefa0aade2a3f7d04230b0/custom.js\")"
     ],
     "language": "python",
     "metadata": {},
     "outputs": [
      {
       "javascript": [
        "$.getScript(\"https://gist.githubusercontent.com/tijptjik/c865543fa3bc51110a5a/raw/5ceac80de35b31510aaefa0aade2a3f7d04230b0/custom.js\")"
       ],
       "metadata": {},
       "output_type": "display_data",
       "text": [
        "<IPython.core.display.Javascript at 0x1133990>"
       ]
      }
     ],
     "prompt_number": 8
    },
    {
     "cell_type": "heading",
     "level": 1,
     "metadata": {},
     "source": [
      "Prologue to Data Science"
     ]
    },
    {
     "cell_type": "markdown",
     "metadata": {},
     "source": [
      "> It is a capital mistake to theorize before one has data. Insensibly one begins to twist facts to suit theories, instead of theories to suit facts.\n",
      "\n",
      "<footer>~ Arthur Conan Doyle, Sherlock Holmes</footer>"
     ]
    },
    {
     "cell_type": "markdown",
     "metadata": {},
     "source": [
      "Congratulations on joining us at General Assembly for the Data Science course! We are so excited to have you and looking forward to working with you all soon!\n",
      "\n",
      "In order to best prepare you for this course, we\u2019ve gathered a list of resources that we\u2019d like for your to complete prior to beginning the first. So when you arrive on your first day, we will all be up to speed and be familiar with the vocabulary and programming languages necessary to succeed in this course.\n",
      "\n",
      "Throughout this course, you will be exposed to the Python programming language and various libraries so in order to be most prepared we recommend going through the following downloads and tutorials.\n",
      "\n",
      "**This should take you 7 - 10 hours of work**"
     ]
    },
    {
     "cell_type": "heading",
     "level": 2,
     "metadata": {},
     "source": [
      "Setup Instructions"
     ]
    },
    {
     "cell_type": "markdown",
     "metadata": {},
     "source": [
      "Python Anaconda this will install python and the libraries you will need for class, follow the online install documentation for instructions.\n",
      "\n",
      "OSX users, please follow the OSX Install Guide to make setting up as smooth as possible on the first day of the course."
     ]
    },
    {
     "cell_type": "markdown",
     "metadata": {},
     "source": [
      "![break](assets/code.png)"
     ]
    },
    {
     "cell_type": "heading",
     "level": 2,
     "metadata": {},
     "source": [
      " Introducing Python & Unix"
     ]
    },
    {
     "cell_type": "markdown",
     "metadata": {},
     "source": [
      "LearnPython (~2 hours) Complete up through \u201cLearn the Basics\u201d and try your hand at some \u201cAdvanced Tutorials.\u201d Codecademy If you are completely new to programming, you might want to spend a little more time on the fundamentals. Codecademy holds your hand, but takes its time while doing it. (several sittings)\n",
      "\n",
      "Learn Pandas a short guide on using pandas for data manipulation and analysis (~ 2 hours) This Python Style Guide will help you write better and cleaner code and is a good place to start. Keep this Code Style advice for later in the course as a reference as it deals with more complicated constructs. (~1 hour)\n",
      "\n",
      "Unix/Command line Learn Command Line the Hard Way (~2 hours)"
     ]
    },
    {
     "cell_type": "markdown",
     "metadata": {},
     "source": [
      "![break](assets/theory.png)"
     ]
    },
    {
     "cell_type": "heading",
     "level": 2,
     "metadata": {},
     "source": [
      "Statistics Refresher"
     ]
    },
    {
     "cell_type": "markdown",
     "metadata": {},
     "source": [
      "Congratulations on joining us at General Assembly for the Data Science course! We are so excited to have you and looking forward to working with you all soon!\n",
      "\n",
      "In order to best prepare you for this course, we\u2019ve gathered a list of resources that we\u2019d like for your to complete prior to beginning the first. So when you arrive on your first day, we will all be up to speed and be familiar with the vocabulary and programming languages necessary to succeed in this course.\n",
      "\n",
      "Throughout this course, you will be exposed to the Python programming language and various libraries so in order to be most prepared we recommend going through the following downloads and tutorials."
     ]
    },
    {
     "cell_type": "markdown",
     "metadata": {},
     "source": [
      "![break](assets/resources.png)"
     ]
    },
    {
     "cell_type": "heading",
     "level": 2,
     "metadata": {},
     "source": [
      "Additional Useful Resources"
     ]
    },
    {
     "cell_type": "markdown",
     "metadata": {},
     "source": [
      "You won\u2019t need these right away but they will become very useful resources later in the course: SciPy and scikit-learn\n",
      "\n",
      "Please reach out if you have any questions about anything or need help!"
     ]
    }
   ],
   "metadata": {}
  }
 ]
}